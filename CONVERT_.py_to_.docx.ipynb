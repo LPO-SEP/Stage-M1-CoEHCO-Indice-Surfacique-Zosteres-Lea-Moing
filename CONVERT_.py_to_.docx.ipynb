{
 "cells": [
  {
   "cell_type": "code",
   "execution_count": 1,
   "id": "9e1c6444",
   "metadata": {},
   "outputs": [
    {
     "name": "stdout",
     "output_type": "stream",
     "text": [
      "Collecting pypandoc\n",
      "  Downloading pypandoc-1.13-py3-none-any.whl.metadata (16 kB)\n",
      "Downloading pypandoc-1.13-py3-none-any.whl (21 kB)\n",
      "Installing collected packages: pypandoc\n",
      "Successfully installed pypandoc-1.13\n",
      "Note: you may need to restart the kernel to use updated packages.\n"
     ]
    }
   ],
   "source": [
    "pip install pypandoc"
   ]
  },
  {
   "cell_type": "code",
   "execution_count": 2,
   "id": "5c29d26f",
   "metadata": {},
   "outputs": [],
   "source": [
    "import pypandoc"
   ]
  },
  {
   "cell_type": "code",
   "execution_count": 3,
   "id": "d548b812",
   "metadata": {},
   "outputs": [],
   "source": [
    "# Télécharger et installer Pandoc\n",
    "pypandoc.download_pandoc()"
   ]
  },
  {
   "cell_type": "code",
   "execution_count": 4,
   "id": "9a6a58ad",
   "metadata": {},
   "outputs": [],
   "source": [
    "# Chemins des fichiers\n",
    "input_file = \"C:/Users/leamo/AppData/Roaming/QGIS/QGIS3/profiles/default/python/plugins/indicesurfaciquezosteres/IndiceSurfaciqueZosteres_algorithm.py\"\n",
    "markdown_file = \"D:/ZOSTERES/IR.md\"\n",
    "output_file = \"D:/ZOSTERES/IR.docx\""
   ]
  },
  {
   "cell_type": "code",
   "execution_count": 5,
   "id": "73cb593e",
   "metadata": {},
   "outputs": [],
   "source": [
    "# Étape 1 : Convertir le script Python en Markdown\n",
    "with open(input_file, \"r\") as infile:\n",
    "    with open(markdown_file, \"w\") as outfile:\n",
    "        outfile.write(\"```python\\n\")\n",
    "        outfile.write(infile.read())\n",
    "        outfile.write(\"\\n```\")"
   ]
  },
  {
   "cell_type": "code",
   "execution_count": 6,
   "id": "c9cd768d",
   "metadata": {},
   "outputs": [
    {
     "data": {
      "text/plain": [
       "''"
      ]
     },
     "execution_count": 6,
     "metadata": {},
     "output_type": "execute_result"
    }
   ],
   "source": [
    "# Étape 2 : Convertir le fichier Markdown en DOCX\n",
    "pypandoc.convert_file(markdown_file, 'docx', outputfile=output_file)"
   ]
  },
  {
   "cell_type": "code",
   "execution_count": 7,
   "id": "87a2a70e",
   "metadata": {},
   "outputs": [
    {
     "name": "stdout",
     "output_type": "stream",
     "text": [
      "Le fichier C:/Users/leamo/AppData/Roaming/QGIS/QGIS3/profiles/default/python/plugins/indicesurfaciquezosteres/IndiceSurfaciqueZosteres_algorithm.py a été converti en D:/ZOSTERES/IR.docx\n"
     ]
    }
   ],
   "source": [
    "print(f\"Le fichier {input_file} a été converti en {output_file}\")"
   ]
  }
 ],
 "metadata": {
  "kernelspec": {
   "display_name": "Python 3 (ipykernel)",
   "language": "python",
   "name": "python3"
  },
  "language_info": {
   "codemirror_mode": {
    "name": "ipython",
    "version": 3
   },
   "file_extension": ".py",
   "mimetype": "text/x-python",
   "name": "python",
   "nbconvert_exporter": "python",
   "pygments_lexer": "ipython3",
   "version": "3.11.7"
  }
 },
 "nbformat": 4,
 "nbformat_minor": 5
}
